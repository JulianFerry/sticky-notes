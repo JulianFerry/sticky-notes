{
 "cells": [
  {
   "cell_type": "code",
   "execution_count": 16,
   "metadata": {},
   "outputs": [],
   "source": [
    "# Adapted from https://github.com/GoogleCloudPlatform/cloudml-samples/blob/master/notebooks/tensorflow/getting-started-keras.ipynb\n",
    "import os\n",
    "import sys\n",
    "\n",
    "os.environ['GOOGLE_APPLICATION_CREDENTIALS'] = '../credentials/sticky-notes1-data-access.json'"
   ]
  },
  {
   "cell_type": "code",
   "execution_count": 14,
   "metadata": {},
   "outputs": [
    {
     "name": "stdout",
     "output_type": "stream",
     "text": [
      "2020-04-29 20:58:14.005515: I tensorflow/core/platform/cpu_feature_guard.cc:142] Your CPU supports instructions that this TensorFlow binary was not compiled to use: AVX2 FMA\n",
      "2020-04-29 20:58:14.022030: I tensorflow/compiler/xla/service/service.cc:168] XLA service 0x7f86285f4150 initialized for platform Host (this does not guarantee that XLA will be used). Devices:\n",
      "2020-04-29 20:58:14.022058: I tensorflow/compiler/xla/service/service.cc:176]   StreamExecutor device (0): Host, Default Version\n",
      "Train for 1 steps, validate for 1 steps\n",
      "2020-04-29 20:58:25.111442: I tensorflow/core/profiler/lib/profiler_session.cc:225] Profiler session started.\n",
      "1/1 [==============================] - 20s 20s/step - loss: 6.0054 - accuracy: 0.5312 - val_loss: 12.8405 - val_accuracy: 0.6250\n"
     ]
    }
   ],
   "source": [
    "# Test that the package works\n",
    "! python3 -m trainer.task \\\n",
    "    --job-dir ../train-output \\\n",
    "    --data_dir ../data/processed/tfrecords/100-examples"
   ]
  },
  {
   "cell_type": "code",
   "execution_count": 17,
   "metadata": {
    "scrolled": false
   },
   "outputs": [
    {
     "name": "stdout",
     "output_type": "stream",
     "text": [
      "Updated property [ml_engine/local_python].\n",
      "2020-04-29 21:00:54.880603: I tensorflow/core/platform/cpu_feature_guard.cc:142] Your CPU supports instructions that this TensorFlow binary was not compiled to use: AVX2 FMA\n",
      "2020-04-29 21:00:54.896925: I tensorflow/compiler/xla/service/service.cc:168] XLA service 0x7fe66042d710 initialized for platform Host (this does not guarantee that XLA will be used). Devices:\n",
      "2020-04-29 21:00:54.896956: I tensorflow/compiler/xla/service/service.cc:176]   StreamExecutor device (0): Host, Default Version\n",
      "Train for 2 steps, validate for 1 steps\n",
      "2020-04-29 21:01:06.322637: I tensorflow/core/profiler/lib/profiler_session.cc:225] Profiler session started.\n",
      "2/2 [==============================] - 31s 16s/step - loss: 12.8757 - accuracy: 0.5000 - val_loss: 4.0788 - val_accuracy: 0.6562\n"
     ]
    }
   ],
   "source": [
    "# Explicitly tell `gcloud ai-platform local train` to use Python 3 \n",
    "! gcloud config set ml_engine/local_python $(which python3)\n",
    "\n",
    "# Run the trainer with ai-platform local train\n",
    "! gcloud ai-platform local train \\\n",
    "    --package-path ./trainer \\\n",
    "    --module-name trainer.task \\\n",
    "    --job-dir ../train-output \\\n",
    "    -- \\\n",
    "    --data_dir ../data/processed/tfrecords/100-examples"
   ]
  },
  {
   "cell_type": "code",
   "execution_count": 11,
   "metadata": {},
   "outputs": [
    {
     "name": "stdout",
     "output_type": "stream",
     "text": [
      "Job [sticky_job_200429_213635] submitted successfully.\r\n",
      "Your job is still active. You may view the status of your job with the command\r\n",
      "\r\n",
      "  $ gcloud ai-platform jobs describe sticky_job_200429_213635\r\n",
      "\r\n",
      "or continue streaming the logs with the command\r\n",
      "\r\n",
      "  $ gcloud ai-platform jobs stream-logs sticky_job_200429_213635\r\n",
      "jobId: sticky_job_200429_213635\r\n",
      "state: QUEUED\r\n"
     ]
    }
   ],
   "source": [
    "import datetime\n",
    "\n",
    "BUCKET_NAME = 'sticky-notes1'\n",
    "os_variables = {\n",
    "    'BUCKET_NAME': BUCKET_NAME,\n",
    "    'REGION': 'europe-west1',\n",
    "    'JOB_NAME': 'sticky_job',\n",
    "    'JOB_DIR': 'gs://' + BUCKET_NAME + '/training-jobs',\n",
    "    'DATA_DIR': 'gs://' + BUCKET_NAME + '/training-data'\n",
    "}\n",
    "for key, value in os_variables.items():\n",
    "    os.environ[key] = value\n",
    "\n",
    "! export date=$(date +%y%m%d_%H%M%S); \\\n",
    "  gcloud ai-platform jobs submit training \"${JOB_NAME}_${date}\" \\\n",
    "    --config hptuning_config.yaml \\\n",
    "    --package-path trainer/ \\\n",
    "    --module-name trainer.task \\\n",
    "    --region $REGION \\\n",
    "    --python-version 3.7 \\\n",
    "    --runtime-version 2.1 \\\n",
    "    --job-dir \"${JOB_DIR}/${date}\" \\\n",
    "    -- \\\n",
    "    --epochs 5 \\\n",
    "    --data_dir $DATA_DIR"
   ]
  },
  {
   "cell_type": "code",
   "execution_count": 17,
   "metadata": {
    "scrolled": true
   },
   "outputs": [
    {
     "name": "stdout",
     "output_type": "stream",
     "text": [
      "Serving TensorBoard on localhost; to expose to the network, use a proxy or pass --bind_all\n",
      "TensorBoard 2.1.1 at http://localhost:6006/ (Press CTRL+C to quit)\n",
      "^C\n"
     ]
    }
   ],
   "source": [
    "# view training logs\n",
    "! tensorboard --logdir $JOB_DIR"
   ]
  },
  {
   "cell_type": "code",
   "execution_count": 200,
   "metadata": {},
   "outputs": [
    {
     "name": "stdout",
     "output_type": "stream",
     "text": [
      "\u001b[1;33mWARNING:\u001b[0m Using endpoint [https://ml.googleapis.com/]\n",
      "Created ml engine model [projects/mnist-keras-mle/models/mynet].\n",
      "\n",
      "\n",
      "Updates are available for some Cloud SDK components.  To install them,\n",
      "please run:\n",
      "  $ gcloud components update\n",
      "\n"
     ]
    }
   ],
   "source": [
    "# MODEL_NAME=\"mynet\"\n",
    "\n",
    "# ! gcloud ai-platform models create $MODEL_NAME \\\n",
    "#   --regions $REGION"
   ]
  },
  {
   "cell_type": "code",
   "execution_count": 211,
   "metadata": {},
   "outputs": [],
   "source": [
    "# MODEL_VERSION=\"v1\"\n",
    "\n",
    "# # Get a list of directories in the `keras_export` parent directory. Then pick\n",
    "# # the directory with the latest timestamp, in case you've trained multiple\n",
    "# # times.\n",
    "# SAVED_MODEL_PATH=$(gsutil ls $JOB_DIR/keras_export | tail -n 1)\n",
    "\n",
    "# # Create model version based on that SavedModel directory\n",
    "# gcloud ai-platform versions create $MODEL_VERSION \\\n",
    "#   --model $MODEL_NAME \\\n",
    "#   --runtime-version 1.15 \\\n",
    "#   --python-version 3.7 \\\n",
    "#   --framework tensorflow \\\n",
    "#   --origin $SAVED_MODEL_PATH"
   ]
  }
 ],
 "metadata": {
  "kernelspec": {
   "display_name": "Python 3",
   "language": "python",
   "name": "python3"
  },
  "language_info": {
   "codemirror_mode": {
    "name": "ipython",
    "version": 3
   },
   "file_extension": ".py",
   "mimetype": "text/x-python",
   "name": "python",
   "nbconvert_exporter": "python",
   "pygments_lexer": "ipython3",
   "version": "3.7.7"
  }
 },
 "nbformat": 4,
 "nbformat_minor": 4
}
