{
 "cells": [
  {
   "cell_type": "code",
   "execution_count": 1,
   "metadata": {},
   "outputs": [],
   "source": [
    "import os\n",
    "import numpy as np\n",
    "from PIL import Image\n",
    "import cv2\n",
    "from utils import preview\n",
    "from imgaug import augmenters as iaa\n",
    "import datetime\n",
    "import json"
   ]
  },
  {
   "cell_type": "markdown",
   "metadata": {},
   "source": [
    "# Function definition"
   ]
  },
  {
   "cell_type": "markdown",
   "metadata": {},
   "source": [
    "### Load object images"
   ]
  },
  {
   "cell_type": "code",
   "execution_count": 2,
   "metadata": {},
   "outputs": [],
   "source": [
    "def load_images(image_dir):\n",
    "    \"\"\"\n",
    "    Load transparent object images from a directory\n",
    "    \"\"\"\n",
    "    # Image file paths\n",
    "    image_files = os.listdir(image_dir)\n",
    "    image_files.remove('.DS_Store')\n",
    "    image_files = [os.path.join(image_dir, f) for f in image_files] \n",
    "\n",
    "    # Load images\n",
    "    images = []\n",
    "    for f in image_files:\n",
    "        img = cv2.imread(f, cv2.IMREAD_UNCHANGED)\n",
    "        img = cv2.cvtColor(img, cv2.COLOR_BGRA2RGBA)\n",
    "        images.append(img)\n",
    "\n",
    "    return images"
   ]
  },
  {
   "cell_type": "markdown",
   "metadata": {},
   "source": [
    "### Augment object images"
   ]
  },
  {
   "cell_type": "code",
   "execution_count": 3,
   "metadata": {},
   "outputs": [],
   "source": [
    "def pad_image(img, padding=10, constant=0):\n",
    "    \"\"\"\n",
    "    Pad the outer edges of a 2D image with a constant value\n",
    "    \n",
    "    Arguments:\n",
    "    - img - numpy array - image to pad\n",
    "    - padding - int - padding to apply\n",
    "    - constant - int - constant value to pad with\n",
    "    \n",
    "    Returns:\n",
    "    - image_padded - numpy array - padded image\n",
    "    \"\"\"\n",
    "    img = img.copy()\n",
    "    img_padded = np.ones(\n",
    "        (img.shape[0] + padding*2, img.shape[1] + padding*2, img.shape[2]),\n",
    "        dtype=img.dtype\n",
    "    ) * constant\n",
    "    img_padded[padding:-padding, padding:-padding] = img\n",
    "    return img_padded"
   ]
  },
  {
   "cell_type": "code",
   "execution_count": 4,
   "metadata": {},
   "outputs": [],
   "source": [
    "def restore_alpha(image, crop=False):\n",
    "    \"\"\"\n",
    "    Restores the alpha channel to 0 or 255 after image augmentation distorts it\n",
    "    \n",
    "    Arguments:\n",
    "    - image - numpy array - image to restore the alpha channel for\n",
    "    - crop - bool - whether to crop the image using the alpha channel\n",
    "    \n",
    "    Returns:\n",
    "    - image - numpy array - image with transparent background\n",
    "    \"\"\"\n",
    "    image = image.copy()\n",
    "    \n",
    "    # Binarise the alpha channel\n",
    "    alpha_channel = image[:, :, 3]\n",
    "    alpha_channel = (alpha_channel >= 128) * 255\n",
    "    image[:, :, 3] = alpha_channel\n",
    "    # Set all channels to 0 if alpha is 0 for that pixel\n",
    "    alpha_zero = (alpha_channel == 0)\n",
    "    image[alpha_zero] = 0\n",
    "\n",
    "    # Crop away any parts of the image that have 0 alpha\n",
    "    if crop:\n",
    "        object_pixels = np.where(~alpha_zero)\n",
    "        xmin, xmax = object_pixels[0].min(), object_pixels[0].max()\n",
    "        ymin, ymax = object_pixels[1].min(), object_pixels[1].max()\n",
    "        image = image[xmin:xmax, ymin:ymax]\n",
    "        \n",
    "    return image"
   ]
  },
  {
   "cell_type": "code",
   "execution_count": 5,
   "metadata": {},
   "outputs": [],
   "source": [
    "def augment_images(images):\n",
    "    \"\"\"\n",
    "    Augment transparent object images using imgaug\n",
    "    \"\"\"\n",
    "    seq = iaa.Sequential(\n",
    "        [\n",
    "            # Horizontal flips\n",
    "            iaa.Fliplr(0.5),\n",
    "            # Small gaussian blur \n",
    "            iaa.Sometimes(\n",
    "                0.5,\n",
    "                iaa.GaussianBlur(sigma=(0, 0.5))\n",
    "            ),\n",
    "            # Strengthen or weaken the contrast in each image.\n",
    "            iaa.LinearContrast((0.75, 1.5)),\n",
    "            # Add gaussian noise\n",
    "            iaa.AdditiveGaussianNoise(loc=0, scale=(0.0, 0.05*255), per_channel=0.5),\n",
    "            # Scale/zoom and rotate\n",
    "            iaa.Affine(\n",
    "                scale={\"x\": (0.6, 1), \"y\": (0.6, 1)},\n",
    "                rotate=(-10, 10)\n",
    "            )\n",
    "        ],\n",
    "        random_order=True\n",
    "    )\n",
    "    \n",
    "    # Pad images, augment and crop to bounding box using alpha channel\n",
    "    images = [pad_image(img, padding=50) for img in images]\n",
    "    images_aug = seq(images=images)\n",
    "    images_aug = [restore_alpha(img, crop=True) for img in images_aug]\n",
    "    \n",
    "    return images_aug"
   ]
  },
  {
   "cell_type": "markdown",
   "metadata": {},
   "source": [
    "### Load texture images"
   ]
  },
  {
   "cell_type": "code",
   "execution_count": 6,
   "metadata": {},
   "outputs": [],
   "source": [
    "def load_textures(texture_dir):\n",
    "    \"\"\"\n",
    "    Load texture images from the subdirectories of texture_dir\n",
    "    \"\"\"\n",
    "    # Texture image file paths\n",
    "    texture_folders = os.listdir(texture_dir)\n",
    "    texture_folders.remove('.DS_Store')\n",
    "\n",
    "    # Recursively get texture image file paths\n",
    "    texture_files = []\n",
    "    for folder in texture_folders:\n",
    "        folder_files = os.listdir(os.path.join(texture_dir, folder))\n",
    "        for file in folder_files:\n",
    "            if file != '.directory':\n",
    "                texture_files.append(os.path.join(texture_dir, folder, file))\n",
    "\n",
    "    # Load texture images\n",
    "    textures = []\n",
    "    for f in texture_files:    \n",
    "        img = cv2.imread(f, cv2.IMREAD_UNCHANGED)\n",
    "        img = cv2.cvtColor(img, cv2.COLOR_BGR2RGBA)\n",
    "        textures.append(img)\n",
    "\n",
    "    return textures"
   ]
  },
  {
   "cell_type": "markdown",
   "metadata": {},
   "source": [
    "### Generate training images from object and texture images"
   ]
  },
  {
   "cell_type": "code",
   "execution_count": 7,
   "metadata": {},
   "outputs": [],
   "source": [
    "def add_background(obj, bg, x, y, image_size):\n",
    "    \"\"\"\n",
    "    Add an object to a background at position x, y\n",
    "    The background will be resized to be square and a multiple of 32\n",
    "    x, y and the object size will be adjusted to fit the object on the background\n",
    "    \n",
    "    Arguments:\n",
    "    - obj - numpy array - object image to overlay on the background\n",
    "    - bg - numpy array - background image\n",
    "    - x - int - x coordinate for the top left of the image\n",
    "    - y - int - y coordinate for the top left of the image\n",
    "    \n",
    "    Returns:\n",
    "    - img - numpy array - object image pasted onto the background image \n",
    "    - bbox - dict - bounding box for the object\n",
    "    \"\"\"\n",
    "    obj = obj.copy()\n",
    "    bg = bg.copy()\n",
    "    \n",
    "    # Resize background to be a square with length equal to a multiple of 32\n",
    "    bg_height, bg_width = bg.shape[0], bg.shape[1]\n",
    "    bg_length = image_size # 32 * int(min(bg_height, bg_width) / 32)\n",
    "    bg = bg[:bg_length, :bg_length]\n",
    "    \n",
    "    # Size the object so that it fits on the background\n",
    "    obj_height, obj_width = obj.shape[0], obj.shape[1]\n",
    "    while (obj_height >= bg_length * 0.9) or (obj_width >= bg_length * 0.9):\n",
    "        obj = obj[::2, ::2]\n",
    "        obj_height, obj_width = obj.shape[0], obj.shape[1]\n",
    "    \n",
    "    # Merge the object with the background (ensure that it fits)\n",
    "    x = x % (bg_length - obj_width)\n",
    "    y = y % (bg_length - obj_height)\n",
    "    obj = Image.fromarray(obj)\n",
    "    img = Image.fromarray(bg)\n",
    "    img.paste(obj, (x, y), obj)\n",
    "    # Bounding box for training\n",
    "    bbox = {'xmin': x, 'xmax': x + obj_width, 'ymin': y, 'ymax': y + obj_height}\n",
    "    \n",
    "    return img, bbox"
   ]
  },
  {
   "cell_type": "code",
   "execution_count": 8,
   "metadata": {},
   "outputs": [],
   "source": [
    "def generate_images(objects, backgrounds, sample_size, output_dir, image_size=224, data_split=(60,20,20)):\n",
    "    \"\"\"\n",
    "    Generate images from object and background images \n",
    "    \n",
    "    Arguments:\n",
    "    - objects: list of object images with transparent backgrounds\n",
    "    - backgrounds: list of background images\n",
    "    - sample_size: number of images to generate\n",
    "    \"\"\"\n",
    "    # Generate output folder names\n",
    "    time = datetime.datetime.now().strftime('%y%m%d_%H%M%S')\n",
    "    output_dir = output_dir + time\n",
    "    data_dir = {\n",
    "        'train': os.path.join(output_dir, 'train'),\n",
    "        'val': os.path.join(output_dir, 'val'),\n",
    "        'test': os.path.join(output_dir, 'test')\n",
    "    }\n",
    "    num_samples = {\n",
    "        'train': int(sample_size * data_split[0]/100),\n",
    "        'val': int(sample_size * data_split[1]/100),\n",
    "        'test': int(sample_size * data_split[2]/100)\n",
    "    }\n",
    "    \n",
    "    # Create folders\n",
    "    print(f'Saving training samples to: {output_dir}')\n",
    "    os.mkdir(output_dir)\n",
    "    json.dump(num_samples, open(os.path.join(output_dir, 'DATA_DESCRIPTION.json'), 'w'))\n",
    "    for i, dataset in enumerate(['train', 'val', 'test']):\n",
    "        dataset_dir = os.path.join(output_dir, dataset)\n",
    "        stickie_dir = os.path.join(dataset_dir, 'stickie')\n",
    "        texture_dir = os.path.join(dataset_dir, 'texture')\n",
    "        for sub_dir in [dataset_dir, stickie_dir, texture_dir]:\n",
    "            os.mkdir(sub_dir)\n",
    "        os.mkdir(os.path.join(stickie_dir, 'images'))\n",
    "        os.mkdir(os.path.join(stickie_dir, 'bboxes'))\n",
    "        os.mkdir(os.path.join(texture_dir, 'images'))\n",
    "\n",
    "        # Generate training images\n",
    "        for i in range(num_samples[dataset]):\n",
    "            print(f'Generating {dataset} data ({i+1}/{num_samples[dataset]})', end='\\r')\n",
    "            # Random sample (don't use np.random.choice in-case all images have same dimensions)\n",
    "            obj = objects[np.random.randint(0, len(objects)-1)]\n",
    "            bg = backgrounds[np.random.randint(0, len(backgrounds)-1)]\n",
    "            x = np.random.randint(0, bg.shape[1])\n",
    "            y = np.random.randint(0, bg.shape[0])\n",
    "            # Generate image\n",
    "            training_image, bbox = add_background(obj, bg, x, y, image_size)\n",
    "\n",
    "            # Save image and bounding box\n",
    "            image_path = os.path.join(stickie_dir, 'images', f'stickie-{i}.png')\n",
    "            bbox_path  = os.path.join(stickie_dir, 'bboxes', f'bbox-{i}.json')\n",
    "            training_image.save(image_path)\n",
    "            json.dump(bbox, open(bbox_path, 'w'))\n",
    "\n",
    "            # Save texture \n",
    "            bg_path = os.path.join(texture_dir, 'images', f'texture-{i}.png')\n",
    "            bg = backgrounds[np.random.randint(0, len(backgrounds)-1)].copy()[:image_size, :image_size]\n",
    "            Image.fromarray(bg).save(bg_path)\n",
    "        print()"
   ]
  },
  {
   "cell_type": "markdown",
   "metadata": {},
   "source": [
    "# Run pipeline"
   ]
  },
  {
   "cell_type": "code",
   "execution_count": 9,
   "metadata": {},
   "outputs": [
    {
     "name": "stdout",
     "output_type": "stream",
     "text": [
      "Loading object images...\n"
     ]
    },
    {
     "data": {
      "image/png": "[encoded data removed]",
      "text/plain": [
       "<PIL.Image.Image image mode=RGBA size=50x31 at 0x124E4A390>"
      ]
     },
     "metadata": {},
     "output_type": "display_data"
    },
    {
     "data": {
      "image/png": "[encoded data removed]",
      "text/plain": [
       "<PIL.Image.Image image mode=RGBA size=50x27 at 0x124E57610>"
      ]
     },
     "metadata": {},
     "output_type": "display_data"
    },
    {
     "name": "stdout",
     "output_type": "stream",
     "text": [
      "Augmenting object images...\n"
     ]
    },
    {
     "data": {
      "image/png": "[encoded data removed]",
      "text/plain": [
       "<PIL.Image.Image image mode=RGBA size=50x33 at 0x124E4A390>"
      ]
     },
     "metadata": {},
     "output_type": "display_data"
    },
    {
     "data": {
      "image/png": "[encoded data removed]",
      "text/plain": [
       "<PIL.Image.Image image mode=RGBA size=50x30 at 0x124E57610>"
      ]
     },
     "metadata": {},
     "output_type": "display_data"
    },
    {
     "name": "stdout",
     "output_type": "stream",
     "text": [
      "Loading texture images...\n"
     ]
    },
    {
     "data": {
      "image/png": "[encoded data removed]",
      "text/plain": [
       "<PIL.Image.Image image mode=RGB size=50x50 at 0x124E57890>"
      ]
     },
     "metadata": {},
     "output_type": "display_data"
    },
    {
     "data": {
      "image/png": "[encoded data removed]",
      "text/plain": [
       "<PIL.Image.Image image mode=RGB size=50x50 at 0x124E4A390>"
      ]
     },
     "metadata": {},
     "output_type": "display_data"
    }
   ],
   "source": [
    "# Load images\n",
    "print('Loading object images...')\n",
    "images = load_images('../data/interim/images/')\n",
    "# Preview\n",
    "for image in images[:2]:\n",
    "    preview(image, size=50)\n",
    "\n",
    "# Augment images (twice, then append the original images)\n",
    "print('Augmenting object images...')\n",
    "images_aug = augment_images(images)\n",
    "images_aug.extend(augment_images(images))\n",
    "images_aug.extend(images)\n",
    "# Preview\n",
    "for image in images_aug[:2]:\n",
    "    preview(image, size=50)\n",
    "\n",
    "# Load textures\n",
    "print('Loading texture images...')\n",
    "#    textures = load_textures('../data/raw/dtd/images/')\n",
    "textures = [np.array((np.random.random((224,224,3)) * 255), dtype='uint8') for _ in range(100)]\n",
    "# Preview\n",
    "for texture in textures[:2]:\n",
    "    preview(texture, size=50)"
   ]
  },
  {
   "cell_type": "code",
   "execution_count": 11,
   "metadata": {},
   "outputs": [
    {
     "name": "stdout",
     "output_type": "stream",
     "text": [
      "Generating images...\n",
      "Saving training samples to: ../data/processed/200428_095708\n",
      "Generating train data (9000/9000)\n",
      "Generating val data (500/500)\n",
      "Generating test data (500/500)\n",
      "Done\n"
     ]
    }
   ],
   "source": [
    "sample_size = 10000\n",
    "# Generate images\n",
    "print('Generating images...')\n",
    "generate_images(images_aug, textures, sample_size, output_dir='../data/processed/',\n",
    "                data_split=(90, 5, 5), image_size=224)\n",
    "print('Done')"
   ]
  },
  {
   "cell_type": "code",
   "execution_count": null,
   "metadata": {},
   "outputs": [],
   "source": []
  },
  {
   "cell_type": "code",
   "execution_count": null,
   "metadata": {},
   "outputs": [],
   "source": []
  }
 ],
 "metadata": {
  "kernelspec": {
   "display_name": "Python 3",
   "language": "python",
   "name": "python3"
  },
  "language_info": {
   "codemirror_mode": {
    "name": "ipython",
    "version": 3
   },
   "file_extension": ".py",
   "mimetype": "text/x-python",
   "name": "python",
   "nbconvert_exporter": "python",
   "pygments_lexer": "ipython3",
   "version": "3.7.7"
  }
 },
 "nbformat": 4,
 "nbformat_minor": 4
}
