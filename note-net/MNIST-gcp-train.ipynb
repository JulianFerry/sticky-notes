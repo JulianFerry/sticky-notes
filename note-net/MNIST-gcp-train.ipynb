{
 "cells": [
  {
   "cell_type": "code",
   "execution_count": 203,
   "metadata": {},
   "outputs": [],
   "source": [
    "# Adapted from https://github.com/GoogleCloudPlatform/cloudml-samples/blob/master/notebooks/tensorflow/getting-started-keras.ipynb\n",
    "import os\n",
    "import sys\n",
    "\n",
    "os.environ['GOOGLE_APPLICATION_CREDENTIALS'] = 'credentials/mnist-keras-mle-gcs-access.json'\n"
   ]
  },
  {
   "cell_type": "code",
   "execution_count": 187,
   "metadata": {},
   "outputs": [
    {
     "name": "stdout",
     "output_type": "stream",
     "text": [
      "^C\r\n",
      "Traceback (most recent call last):\r\n",
      "  File \"/Users/julian/projects/mnist-keras-gcp/.venv/lib/python3.7/site-packages/numpy/core/__init__.py\", line 24, in <module>\r\n",
      "    from . import multiarray\r\n",
      "  File \"/Users/julian/projects/mnist-keras-gcp/.venv/lib/python3.7/site-packages/numpy/core/multiarray.py\", line 14, in <module>\r\n",
      "    from . import overrides\r\n",
      "  File \"/Users/julian/projects/mnist-keras-gcp/.venv/lib/python3.7/site-packages/numpy/core/overrides.py\", line 7, in <module>\r\n",
      "    from numpy.core._multiarray_umath import (\r\n",
      "ImportError: PyCapsule_Import could not import module \"datetime\"\r\n",
      "\r\n",
      "During handling of the above exception, another exception occurred:\r\n",
      "\r\n",
      "Traceback (most recent call last):\r\n",
      "  File \"/usr/local/Cellar/python/3.7.7/Frameworks/Python.framework/Versions/3.7/lib/python3.7/runpy.py\", line 193, in _run_module_as_main\r\n",
      "    \"__main__\", mod_spec)\r\n",
      "  File \"/usr/local/Cellar/python/3.7.7/Frameworks/Python.framework/Versions/3.7/lib/python3.7/runpy.py\", line 85, in _run_code\r\n",
      "    exec(code, run_globals)\r\n",
      "  File \"/Users/julian/projects/mnist-keras-gcp/mynet/trainer/task.py\", line 2, in <module>\r\n",
      "    from . import model\r\n",
      "  File \"/Users/julian/projects/mnist-keras-gcp/mynet/trainer/model.py\", line 1, in <module>\r\n",
      "    import tensorflow as tf\r\n",
      "  File \"/Users/julian/projects/mnist-keras-gcp/.venv/lib/python3.7/site-packages/tensorflow/__init__.py\", line 101, in <module>\r\n",
      "    from tensorflow_core import *\r\n",
      "  File \"/Users/julian/projects/mnist-keras-gcp/.venv/lib/python3.7/site-packages/tensorflow_core/__init__.py\", line 40, in <module>\r\n",
      "    from tensorflow.python.tools import module_util as _module_util\r\n",
      "  File \"/Users/julian/projects/mnist-keras-gcp/.venv/lib/python3.7/site-packages/tensorflow/__init__.py\", line 50, in __getattr__\r\n",
      "    module = self._load()\r\n",
      "  File \"/Users/julian/projects/mnist-keras-gcp/.venv/lib/python3.7/site-packages/tensorflow/__init__.py\", line 44, in _load\r\n",
      "    module = _importlib.import_module(self.__name__)\r\n",
      "  File \"/usr/local/Cellar/python/3.7.7/Frameworks/Python.framework/Versions/3.7/lib/python3.7/importlib/__init__.py\", line 127, in import_module\r\n",
      "    return _bootstrap._gcd_import(name[level:], package, level)\r\n",
      "  File \"/Users/julian/projects/mnist-keras-gcp/.venv/lib/python3.7/site-packages/tensorflow_core/python/__init__.py\", line 47, in <module>\r\n",
      "    import numpy as np\r\n",
      "  File \"/Users/julian/projects/mnist-keras-gcp/.venv/lib/python3.7/site-packages/numpy/__init__.py\", line 142, in <module>\r\n",
      "    from . import core\r\n",
      "  File \"/Users/julian/projects/mnist-keras-gcp/.venv/lib/python3.7/site-packages/numpy/core/__init__.py\", line 54, in <module>\r\n",
      "    raise ImportError(msg)\r\n",
      "ImportError: \r\n",
      "\r\n",
      "IMPORTANT: PLEASE READ THIS FOR ADVICE ON HOW TO SOLVE THIS ISSUE!\r\n",
      "\r\n",
      "Importing the numpy c-extensions failed.\r\n",
      "- Try uninstalling and reinstalling numpy.\r\n",
      "- If you have already done that, then:\r\n",
      "  1. Check that you expected to use Python3.7 from \"/Users/julian/projects/mnist-keras-gcp/.venv/bin/python3\",\r\n",
      "     and that you have no directories in your PATH or PYTHONPATH that can\r\n",
      "     interfere with the Python and numpy version \"1.18.2\" you're trying to use.\r\n",
      "  2. If (1) looks fine, you can open a new issue at\r\n",
      "     https://github.com/numpy/numpy/issues.  Please include details on:\r\n",
      "     - how you installed Python\r\n",
      "     - how you installed numpy\r\n",
      "     - your operating system\r\n",
      "     - whether or not you have multiple versions of Python installed\r\n",
      "     - if you built from source, your compiler versions and ideally a build log\r\n",
      "\r\n",
      "- If you're working with a numpy git repository, try `git clean -xdf`\r\n",
      "  (removes all files not under version control) and rebuild numpy.\r\n",
      "\r\n",
      "Note: this error has many possible causes, so please don't comment on\r\n",
      "an existing issue about this - open a new one instead.\r\n",
      "\r\n",
      "Original error was: PyCapsule_Import could not import module \"datetime\"\r\n",
      "\r\n"
     ]
    }
   ],
   "source": [
    "# Test that the package works\n",
    "! python3 -m trainer.task \\\n",
    "    --job-dir ./train-output"
   ]
  },
  {
   "cell_type": "code",
   "execution_count": 25,
   "metadata": {
    "scrolled": false
   },
   "outputs": [
    {
     "name": "stdout",
     "output_type": "stream",
     "text": [
      "Updated property [ml_engine/local_python].\n",
      "2020-04-21 19:10:12.090005: I tensorflow/core/platform/cpu_feature_guard.cc:142] Your CPU supports instructions that this TensorFlow binary was not compiled to use: AVX2 FMA\n",
      "2020-04-21 19:10:12.105380: I tensorflow/compiler/xla/service/service.cc:168] XLA service 0x7ffae95fe850 initialized for platform Host (this does not guarantee that XLA will be used). Devices:\n",
      "2020-04-21 19:10:12.105423: I tensorflow/compiler/xla/service/service.cc:176]   StreamExecutor device (0): Host, Default Version\n",
      "WARNING:tensorflow:From /Users/julian/projects/mnist-keras-gcp/.venv/lib/python3.7/site-packages/tensorflow_core/python/ops/resource_variable_ops.py:1635: calling BaseResourceVariable.__init__ (from tensorflow.python.ops.resource_variable_ops) with constraint is deprecated and will be removed in a future version.\n",
      "Instructions for updating:\n",
      "If using Keras pass *_constraint arguments to layers.\n",
      "WARNING:tensorflow:From /Users/julian/projects/mnist-keras-gcp/.venv/lib/python3.7/site-packages/tensorflow_core/python/ops/resource_variable_ops.py:1635: calling BaseResourceVariable.__init__ (from tensorflow.python.ops.resource_variable_ops) with constraint is deprecated and will be removed in a future version.\n",
      "Instructions for updating:\n",
      "If using Keras pass *_constraint arguments to layers.\n",
      "Train on 1500 steps, validate on 375 steps\n",
      "^C\n"
     ]
    }
   ],
   "source": [
    "# Explicitly tell `gcloud ai-platform local train` to use Python 3 \n",
    "! gcloud config set ml_engine/local_python $(which python3)\n",
    "\n",
    "# Run the trainer with ai-platform local train\n",
    "! gcloud ai-platform local train \\\n",
    "    --package-path ./trainer \\\n",
    "    --module-name trainer.task \\\n",
    "    --job-dir ./train-output"
   ]
  },
  {
   "cell_type": "code",
   "execution_count": 193,
   "metadata": {},
   "outputs": [
    {
     "name": "stdout",
     "output_type": "stream",
     "text": [
      "Job [mynet_job_200422_170907] submitted successfully.\r\n",
      "Your job is still active. You may view the status of your job with the command\r\n",
      "\r\n",
      "  $ gcloud ai-platform jobs describe mynet_job_200422_170907\r\n",
      "\r\n",
      "or continue streaming the logs with the command\r\n",
      "\r\n",
      "  $ gcloud ai-platform jobs stream-logs mynet_job_200422_170907\r\n",
      "jobId: mynet_job_200422_170907\r\n",
      "state: QUEUED\r\n"
     ]
    }
   ],
   "source": [
    "import datetime\n",
    "os_variables = {\n",
    "    'BUCKET_NAME': 'mnist-keras-mle',\n",
    "    'REGION': 'europe-west1',\n",
    "    'JOB_NAME': 'mynet_job',\n",
    "    'JOB_DIR': 'gs://' + BUCKET_NAME + '/training-jobs'\n",
    "}\n",
    "for key, value in os_variables.items():\n",
    "    os.environ[key] = value\n",
    "\n",
    "! export date=$(date +%y%m%d_%H%M%S); \\\n",
    "  gcloud ai-platform jobs submit training \"${JOB_NAME}_${date}\" \\\n",
    "    --config hptuning_config.yaml \\\n",
    "    --package-path trainer/ \\\n",
    "    --module-name trainer.task \\\n",
    "    --region $REGION \\\n",
    "    --python-version 3.7 \\\n",
    "    --runtime-version 2.1 \\\n",
    "    --job-dir \"${JOB_DIR}/${date}\" \\\n",
    "    -- \\\n",
    "    --epochs 5"
   ]
  },
  {
   "cell_type": "code",
   "execution_count": null,
   "metadata": {
    "scrolled": true
   },
   "outputs": [
    {
     "name": "stdout",
     "output_type": "stream",
     "text": [
      "Serving TensorBoard on localhost; to expose to the network, use a proxy or pass --bind_all\r\n",
      "TensorBoard 2.1.1 at http://localhost:6006/ (Press CTRL+C to quit)\r\n"
     ]
    }
   ],
   "source": [
    "# view training logs\n",
    "! tensorboard --logdir $JOB_DIR"
   ]
  },
  {
   "cell_type": "code",
   "execution_count": 200,
   "metadata": {},
   "outputs": [
    {
     "name": "stdout",
     "output_type": "stream",
     "text": [
      "\u001b[1;33mWARNING:\u001b[0m Using endpoint [https://ml.googleapis.com/]\n",
      "Created ml engine model [projects/mnist-keras-mle/models/mynet].\n",
      "\n",
      "\n",
      "Updates are available for some Cloud SDK components.  To install them,\n",
      "please run:\n",
      "  $ gcloud components update\n",
      "\n"
     ]
    }
   ],
   "source": [
    "MODEL_NAME=\"mynet\"\n",
    "\n",
    "! gcloud ai-platform models create $MODEL_NAME \\\n",
    "  --regions $REGION"
   ]
  },
  {
   "cell_type": "code",
   "execution_count": 211,
   "metadata": {},
   "outputs": [],
   "source": [
    "MODEL_VERSION=\"v1\"\n",
    "\n",
    "# Get a list of directories in the `keras_export` parent directory. Then pick\n",
    "# the directory with the latest timestamp, in case you've trained multiple\n",
    "# times.\n",
    "SAVED_MODEL_PATH=$(gsutil ls $JOB_DIR/keras_export | tail -n 1)\n",
    "\n",
    "# Create model version based on that SavedModel directory\n",
    "gcloud ai-platform versions create $MODEL_VERSION \\\n",
    "  --model $MODEL_NAME \\\n",
    "  --runtime-version 1.15 \\\n",
    "  --python-version 3.7 \\\n",
    "  --framework tensorflow \\\n",
    "  --origin $SAVED_MODEL_PATH"
   ]
  }
 ],
 "metadata": {
  "kernelspec": {
   "display_name": "Python 3.7.7 64-bit ('.venv': venv)",
   "language": "python",
   "name": "python37764bitvenvvenvdbb7f67c110b476e9bc8206f3664a22d"
  },
  "language_info": {
   "codemirror_mode": {
    "name": "ipython",
    "version": 3
   },
   "file_extension": ".py",
   "mimetype": "text/x-python",
   "name": "python",
   "nbconvert_exporter": "python",
   "pygments_lexer": "ipython3",
   "version": "3.7.7"
  }
 },
 "nbformat": 4,
 "nbformat_minor": 4
}
