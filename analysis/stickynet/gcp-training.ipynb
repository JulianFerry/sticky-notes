{
 "cells": [
  {
   "cell_type": "code",
   "execution_count": 1,
   "metadata": {},
   "outputs": [],
   "source": [
    "# Adapted from https://github.com/GoogleCloudPlatform/cloudml-samples/blob/master/notebooks/tensorflow/getting-started-keras.ipynb\n",
    "import os\n",
    "import sys\n",
    "\n",
    "os.environ['GOOGLE_APPLICATION_CREDENTIALS'] = '../../credentials/sticky-notes1-data-access.json'"
   ]
  },
  {
   "cell_type": "markdown",
   "metadata": {},
   "source": [
    "### Run package locally with 'python3 -m'"
   ]
  },
  {
   "cell_type": "code",
   "execution_count": null,
   "metadata": {
    "scrolled": true
   },
   "outputs": [
    {
     "name": "stdout",
     "output_type": "stream",
     "text": [
      "2020-05-07 12:35:03.702606: I tensorflow/core/platform/cpu_feature_guard.cc:142] Your CPU supports instructions that this TensorFlow binary was not compiled to use: AVX2 FMA\n",
      "2020-05-07 12:35:03.722017: I tensorflow/compiler/xla/service/service.cc:168] XLA service 0x7fd3ce2be990 initialized for platform Host (this does not guarantee that XLA will be used). Devices:\n",
      "2020-05-07 12:35:03.722099: I tensorflow/compiler/xla/service/service.cc:176]   StreamExecutor device (0): Host, Default Version\n",
      "Train for 2 steps, validate for 1 steps\n"
     ]
    }
   ],
   "source": [
    "#! rm -r ../train-output\n",
    "\n",
    "# Test that the package works\n",
    "! python3 -m trainer.task \\\n",
    "    --job-dir ../train-output/2 \\\n",
    "    --data_dir ../../data/processed/tfrecords/100-examples \\\n",
    "    --epochs 1 \\\n",
    "    --learning_rate=0.001 \\\n",
    "    --trainable_blocks=1"
   ]
  },
  {
   "cell_type": "markdown",
   "metadata": {},
   "source": [
    "### Run locally with 'gcloud ai-platform local train'"
   ]
  },
  {
   "cell_type": "code",
   "execution_count": 28,
   "metadata": {
    "scrolled": false
   },
   "outputs": [
    {
     "name": "stdout",
     "output_type": "stream",
     "text": [
      "Updated property [ml_engine/local_python].\n",
      "2020-05-06 10:44:36.279983: I tensorflow/core/platform/cpu_feature_guard.cc:142] Your CPU supports instructions that this TensorFlow binary was not compiled to use: AVX2 FMA\n",
      "2020-05-06 10:44:36.301301: I tensorflow/compiler/xla/service/service.cc:168] XLA service 0x7f8e544d8de0 initialized for platform Host (this does not guarantee that XLA will be used). Devices:\n",
      "2020-05-06 10:44:36.301342: I tensorflow/compiler/xla/service/service.cc:176]   StreamExecutor device (0): Host, Default Version\n",
      "Train for 2 steps, validate for 1 steps\n",
      "{'batch': 0, 'size': 32, 'loss': 3.2584772, 'accuracy': 0.625}\n",
      "2020-05-06 10:44:48.660744: I tensorflow/core/profiler/lib/profiler_session.cc:225] Profiler session started.\n",
      "1/2 [==============>...............] - ETA: 11s - loss: 3.2585 - accuracy: 0.6250^C\n"
     ]
    }
   ],
   "source": [
    "# Explicitly tell `gcloud ai-platform local train` to use Python 3 \n",
    "! gcloud config set ml_engine/local_python $(which python3)\n",
    "\n",
    "# Run the trainer with ai-platform local train\n",
    "! gcloud ai-platform local train \\\n",
    "    --package-path ./trainer \\\n",
    "    --module-name trainer.task \\\n",
    "    --job-dir ../train-output \\\n",
    "    -- \\\n",
    "    --data_dir ../../data/processed/tfrecords/100-examples"
   ]
  },
  {
   "cell_type": "markdown",
   "metadata": {},
   "source": [
    "### Submit job to gcloud"
   ]
  },
  {
   "cell_type": "code",
   "execution_count": 2,
   "metadata": {},
   "outputs": [],
   "source": [
    "import datetime\n",
    "\n",
    "BUCKET_NAME = 'sticky-notes1'\n",
    "os_variables = {\n",
    "    'BUCKET_NAME': BUCKET_NAME,\n",
    "    'REGION': 'europe-west1',\n",
    "    'JOB_NAME': 'sticky_job',\n",
    "    'JOB_DIR': 'gs://' + BUCKET_NAME + '/training-jobs',\n",
    "    'DATA_DIR': 'gs://' + BUCKET_NAME + '/training-data/10000-examples'\n",
    "}\n",
    "for key, value in os_variables.items():\n",
    "    os.environ[key] = value"
   ]
  },
  {
   "cell_type": "code",
   "execution_count": 5,
   "metadata": {
    "scrolled": false
   },
   "outputs": [
    {
     "name": "stdout",
     "output_type": "stream",
     "text": [
      "Job [sticky_job_200507_124624] submitted successfully.\r\n",
      "Your job is still active. You may view the status of your job with the command\r\n",
      "\r\n",
      "  $ gcloud ai-platform jobs describe sticky_job_200507_124624\r\n",
      "\r\n",
      "or continue streaming the logs with the command\r\n",
      "\r\n",
      "  $ gcloud ai-platform jobs stream-logs sticky_job_200507_124624\r\n",
      "jobId: sticky_job_200507_124624\r\n",
      "state: QUEUED\r\n"
     ]
    }
   ],
   "source": [
    "! export date=$(date +%y%m%d_%H%M%S); \\\n",
    "  gcloud ai-platform jobs submit training \"${JOB_NAME}_${date}\" \\\n",
    "    --config config.yaml \\\n",
    "    --package-path trainer/ \\\n",
    "    --module-name trainer.task \\\n",
    "    --region $REGION \\\n",
    "    --python-version 3.7 \\\n",
    "    --runtime-version 2.1 \\\n",
    "    --job-dir \"${JOB_DIR}/${date}\" \\\n",
    "    -- \\\n",
    "    --epochs 16 \\\n",
    "    --data_dir $DATA_DIR \\\n",
    "#    --initial_weights_path gs://sticky-notes1/training-jobs/200506_181220/1/model-weights.tf \\\n",
    "#    --first_epoch 8"
   ]
  },
  {
   "cell_type": "code",
   "execution_count": null,
   "metadata": {},
   "outputs": [
    {
     "name": "stdout",
     "output_type": "stream",
     "text": [
      "Serving TensorBoard on localhost; to expose to the network, use a proxy or pass --bind_all\r\n",
      "TensorBoard 2.1.1 at http://localhost:6006/ (Press CTRL+C to quit)\r\n"
     ]
    }
   ],
   "source": [
    "# view training logs\n",
    "! tensorboard --logdir $JOB_DIR/"
   ]
  },
  {
   "cell_type": "code",
   "execution_count": 28,
   "metadata": {},
   "outputs": [],
   "source": [
    "# MODEL_NAME=\"mynet\"\n",
    "\n",
    "# ! gcloud ai-platform models create $MODEL_NAME \\\n",
    "#   --regions $REGION"
   ]
  },
  {
   "cell_type": "code",
   "execution_count": 29,
   "metadata": {},
   "outputs": [],
   "source": [
    "# MODEL_VERSION=\"v1\"\n",
    "\n",
    "# # Get a list of directories in the `keras_export` parent directory. Then pick\n",
    "# # the directory with the latest timestamp, in case you've trained multiple\n",
    "# # times.\n",
    "# SAVED_MODEL_PATH=$(gsutil ls $JOB_DIR/keras_export | tail -n 1)\n",
    "\n",
    "# # Create model version based on that SavedModel directory\n",
    "# gcloud ai-platform versions create $MODEL_VERSION \\\n",
    "#   --model $MODEL_NAME \\\n",
    "#   --runtime-version 1.15 \\\n",
    "#   --python-version 3.7 \\\n",
    "#   --framework tensorflow \\\n",
    "#   --origin $SAVED_MODEL_PATH"
   ]
  },
  {
   "cell_type": "code",
   "execution_count": null,
   "metadata": {},
   "outputs": [],
   "source": []
  }
 ],
 "metadata": {
  "kernelspec": {
   "display_name": "Python 3",
   "language": "python",
   "name": "python3"
  },
  "language_info": {
   "codemirror_mode": {
    "name": "ipython",
    "version": 3
   },
   "file_extension": ".py",
   "mimetype": "text/x-python",
   "name": "python",
   "nbconvert_exporter": "python",
   "pygments_lexer": "ipython3",
   "version": "3.7.7"
  }
 },
 "nbformat": 4,
 "nbformat_minor": 4
}
