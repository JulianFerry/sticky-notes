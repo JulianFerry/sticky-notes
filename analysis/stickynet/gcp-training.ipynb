{
 "cells": [
  {
   "cell_type": "code",
   "execution_count": 1,
   "metadata": {},
   "outputs": [],
   "source": [
    "# Adapted from https://github.com/GoogleCloudPlatform/cloudml-samples/blob/master/notebooks/tensorflow/getting-started-keras.ipynb\n",
    "import os\n",
    "import sys\n",
    "\n",
    "os.environ['GOOGLE_APPLICATION_CREDENTIALS'] = '../../credentials/sticky-notes1-data-access.json'"
   ]
  },
  {
   "cell_type": "markdown",
   "metadata": {},
   "source": [
    "### Run package locally with 'python3 -m'"
   ]
  },
  {
   "cell_type": "code",
   "execution_count": 20,
   "metadata": {
    "scrolled": true
   },
   "outputs": [
    {
     "name": "stdout",
     "output_type": "stream",
     "text": [
      "2020-05-09 13:31:21.990852: I tensorflow/core/platform/cpu_feature_guard.cc:142] Your CPU supports instructions that this TensorFlow binary was not compiled to use: AVX2 FMA\n",
      "2020-05-09 13:31:22.019005: I tensorflow/compiler/xla/service/service.cc:168] XLA service 0x7fccbe35dea0 initialized for platform Host (this does not guarantee that XLA will be used). Devices:\n",
      "2020-05-09 13:31:22.019114: I tensorflow/compiler/xla/service/service.cc:176]   StreamExecutor device (0): Host, Default Version\n",
      "Train for 2 steps, validate for 1 steps\n",
      "2020-05-09 13:31:52.623199: I tensorflow/core/profiler/lib/profiler_session.cc:225] Profiler session started.\n",
      "WARNING:tensorflow:Method (on_train_batch_end) is slow compared to the batch update (15.348905). Check your callbacks.\n",
      "1/2 [==============>...............] - ETA: 29s - loss: 7.0665 - accuracy: 0.5938 - val_loss: 25.8491 - val_accuracy: 0.3438^C\n"
     ]
    }
   ],
   "source": [
    "! rm -r ../train-output\n",
    "\n",
    "# Test that the package works\n",
    "! python3 -m trainer.task \\\n",
    "    --job-dir ../train-output \\\n",
    "    --data_dir ../../data/processed/tfrecords/yolo-100-examples \\\n",
    "    --epochs 1 \\\n",
    "    --learning_rate=0.001"
   ]
  },
  {
   "cell_type": "markdown",
   "metadata": {},
   "source": [
    "### Run locally with 'gcloud ai-platform local train'"
   ]
  },
  {
   "cell_type": "code",
   "execution_count": 16,
   "metadata": {
    "scrolled": false
   },
   "outputs": [
    {
     "name": "stdout",
     "output_type": "stream",
     "text": [
      "Updated property [ml_engine/local_python].\n",
      "^C\n",
      "\n",
      "\n",
      "Command killed by keyboard interrupt\n",
      "\n",
      "2020-05-09 12:57:35.781321: I tensorflow/core/platform/cpu_feature_guard.cc:142] Your CPU supports instructions that this TensorFlow binary was not compiled to use: AVX2 FMA\n",
      "2020-05-09 12:57:35.806404: I tensorflow/compiler/xla/service/service.cc:168] XLA service 0x7fdf980edf70 initialized for platform Host (this does not guarantee that XLA will be used). Devices:\n",
      "2020-05-09 12:57:35.806437: I tensorflow/compiler/xla/service/service.cc:176]   StreamExecutor device (0): Host, Default Version\n",
      "Traceback (most recent call last):\n",
      "  File \"/usr/local/Cellar/python/3.7.7/Frameworks/Python.framework/Versions/3.7/lib/python3.7/runpy.py\", line 193, in _run_module_as_main\n",
      "    \"__main__\", mod_spec)\n",
      "  File \"/usr/local/Cellar/python/3.7.7/Frameworks/Python.framework/Versions/3.7/lib/python3.7/runpy.py\", line 85, in _run_code\n",
      "    exec(code, run_globals)\n",
      "  File \"/Users/julian/projects/sticky-notes/analysis/stickynet/trainer/task.py\", line 113, in <module>\n",
      "    model.train_and_evaluate(args)\n",
      "  File \"/Users/julian/projects/sticky-notes/analysis/stickynet/trainer/model.py\", line 264, in train_and_evaluate\n",
      "    train_dataset, train_steps = read_dataset(train_tfrecord_path, args['batch_size'])\n",
      "  File \"/Users/julian/projects/sticky-notes/analysis/stickynet/trainer/model.py\", line 73, in read_dataset\n",
      "    metadata = load_metadata(tfrecord_path)\n",
      "  File \"/Users/julian/projects/sticky-notes/analysis/stickynet/trainer/model.py\", line 43, in load_metadata\n",
      "    metadata = json.load(open(os.path.join(data_dir, 'METADATA.json')))\n",
      "FileNotFoundError: [Errno 2] No such file or directory: '../../data/processed/tfrecords/100-examples-weighted/METADATA.json'\n"
     ]
    }
   ],
   "source": [
    "# Explicitly tell `gcloud ai-platform local train` to use Python 3 \n",
    "! gcloud config set ml_engine/local_python $(which python3)\n",
    "\n",
    "# Run the trainer with ai-platform local train\n",
    "! gcloud ai-platform local train \\\n",
    "    --package-path ./trainer \\\n",
    "    --module-name trainer.task \\\n",
    "    --job-dir ../train-output \\\n",
    "    -- \\\n",
    "    --data_dir ../../data/processed/tfrecords/100-examples"
   ]
  },
  {
   "cell_type": "markdown",
   "metadata": {},
   "source": [
    "### Submit job to gcloud"
   ]
  },
  {
   "cell_type": "code",
   "execution_count": 2,
   "metadata": {},
   "outputs": [],
   "source": [
    "import datetime\n",
    "\n",
    "BUCKET_NAME = 'sticky-notes1'\n",
    "os_variables = {\n",
    "    'BUCKET_NAME': BUCKET_NAME,\n",
    "    'REGION': 'europe-west1',\n",
    "    'JOB_NAME': 'sticky_job',\n",
    "    'JOB_DIR': 'gs://' + BUCKET_NAME + '/training-jobs',\n",
    "    'DATA_DIR': 'gs://' + BUCKET_NAME + '/training-data/10000-examples'\n",
    "}\n",
    "for key, value in os_variables.items():\n",
    "    os.environ[key] = value"
   ]
  },
  {
   "cell_type": "code",
   "execution_count": 5,
   "metadata": {
    "scrolled": false
   },
   "outputs": [
    {
     "name": "stdout",
     "output_type": "stream",
     "text": [
      "Job [sticky_job_200507_124624] submitted successfully.\r\n",
      "Your job is still active. You may view the status of your job with the command\r\n",
      "\r\n",
      "  $ gcloud ai-platform jobs describe sticky_job_200507_124624\r\n",
      "\r\n",
      "or continue streaming the logs with the command\r\n",
      "\r\n",
      "  $ gcloud ai-platform jobs stream-logs sticky_job_200507_124624\r\n",
      "jobId: sticky_job_200507_124624\r\n",
      "state: QUEUED\r\n"
     ]
    }
   ],
   "source": [
    "! export date=$(date +%y%m%d_%H%M%S); \\\n",
    "  gcloud ai-platform jobs submit training \"${JOB_NAME}_${date}\" \\\n",
    "    --config config.yaml \\\n",
    "    --package-path trainer/ \\\n",
    "    --module-name trainer.task \\\n",
    "    --region $REGION \\\n",
    "    --python-version 3.7 \\\n",
    "    --runtime-version 2.1 \\\n",
    "    --job-dir \"${JOB_DIR}/${date}\" \\\n",
    "    -- \\\n",
    "    --epochs 16 \\\n",
    "    --data_dir $DATA_DIR \\\n",
    "#    --initial_weights_path gs://sticky-notes1/training-jobs/200506_181220/1/model-weights.tf \\\n",
    "#    --first_epoch 8"
   ]
  },
  {
   "cell_type": "code",
   "execution_count": null,
   "metadata": {},
   "outputs": [
    {
     "name": "stdout",
     "output_type": "stream",
     "text": [
      "Serving TensorBoard on localhost; to expose to the network, use a proxy or pass --bind_all\r\n",
      "TensorBoard 2.1.1 at http://localhost:6006/ (Press CTRL+C to quit)\r\n"
     ]
    }
   ],
   "source": [
    "# view training logs\n",
    "! tensorboard --logdir $JOB_DIR/"
   ]
  },
  {
   "cell_type": "code",
   "execution_count": 28,
   "metadata": {},
   "outputs": [],
   "source": [
    "# MODEL_NAME=\"mynet\"\n",
    "\n",
    "# ! gcloud ai-platform models create $MODEL_NAME \\\n",
    "#   --regions $REGION"
   ]
  },
  {
   "cell_type": "code",
   "execution_count": 29,
   "metadata": {},
   "outputs": [],
   "source": [
    "# MODEL_VERSION=\"v1\"\n",
    "\n",
    "# # Get a list of directories in the `keras_export` parent directory. Then pick\n",
    "# # the directory with the latest timestamp, in case you've trained multiple\n",
    "# # times.\n",
    "# SAVED_MODEL_PATH=$(gsutil ls $JOB_DIR/keras_export | tail -n 1)\n",
    "\n",
    "# # Create model version based on that SavedModel directory\n",
    "# gcloud ai-platform versions create $MODEL_VERSION \\\n",
    "#   --model $MODEL_NAME \\\n",
    "#   --runtime-version 1.15 \\\n",
    "#   --python-version 3.7 \\\n",
    "#   --framework tensorflow \\\n",
    "#   --origin $SAVED_MODEL_PATH"
   ]
  },
  {
   "cell_type": "code",
   "execution_count": null,
   "metadata": {},
   "outputs": [],
   "source": []
  }
 ],
 "metadata": {
  "kernelspec": {
   "display_name": "Python 3",
   "language": "python",
   "name": "python3"
  },
  "language_info": {
   "codemirror_mode": {
    "name": "ipython",
    "version": 3
   },
   "file_extension": ".py",
   "mimetype": "text/x-python",
   "name": "python",
   "nbconvert_exporter": "python",
   "pygments_lexer": "ipython3",
   "version": "3.7.7"
  }
 },
 "nbformat": 4,
 "nbformat_minor": 4
}
