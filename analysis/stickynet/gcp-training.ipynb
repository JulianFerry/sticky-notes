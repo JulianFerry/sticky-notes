{
 "cells": [
  {
   "cell_type": "code",
   "execution_count": 4,
   "metadata": {},
   "outputs": [],
   "source": [
    "# Adapted from https://github.com/GoogleCloudPlatform/cloudml-samples/blob/master/notebooks/tensorflow/getting-started-keras.ipynb\n",
    "import os\n",
    "import sys\n",
    "\n",
    "os.environ['GOOGLE_APPLICATION_CREDENTIALS'] = '../credentials/sticky-notes1-data-access.json'"
   ]
  },
  {
   "cell_type": "markdown",
   "metadata": {},
   "source": [
    "### Run package locally with 'python3 -m'"
   ]
  },
  {
   "cell_type": "code",
   "execution_count": 39,
   "metadata": {},
   "outputs": [
    {
     "name": "stdout",
     "output_type": "stream",
     "text": [
      "2020-04-30 16:47:06.556858: I tensorflow/core/platform/cpu_feature_guard.cc:142] Your CPU supports instructions that this TensorFlow binary was not compiled to use: AVX2 FMA\n",
      "2020-04-30 16:47:06.572175: I tensorflow/compiler/xla/service/service.cc:168] XLA service 0x7ff9d41d7060 initialized for platform Host (this does not guarantee that XLA will be used). Devices:\n",
      "2020-04-30 16:47:06.572202: I tensorflow/compiler/xla/service/service.cc:176]   StreamExecutor device (0): Host, Default Version\n",
      "No GPUs available\n",
      "Loading initial model weights from gs://sticky-notes1/training-jobs/200430_151618/1/model-weights.tf\n",
      "Train for 2 steps, validate for 1 steps\n",
      "^C\n"
     ]
    }
   ],
   "source": [
    "# Test that the package works\n",
    "! python3 -m trainer.task \\\n",
    "    --job-dir ../train-output \\\n",
    "    --data_dir ../data/processed/tfrecords/100-examples \\\n",
    "    --initial_weights_path gs://sticky-notes1/training-jobs/200430_151618/1/model-weights.tf"
   ]
  },
  {
   "cell_type": "markdown",
   "metadata": {},
   "source": [
    "### Run locally with 'gcloud ai-platform local train'"
   ]
  },
  {
   "cell_type": "code",
   "execution_count": 17,
   "metadata": {
    "scrolled": false
   },
   "outputs": [
    {
     "name": "stdout",
     "output_type": "stream",
     "text": [
      "Updated property [ml_engine/local_python].\n",
      "2020-04-29 21:00:54.880603: I tensorflow/core/platform/cpu_feature_guard.cc:142] Your CPU supports instructions that this TensorFlow binary was not compiled to use: AVX2 FMA\n",
      "2020-04-29 21:00:54.896925: I tensorflow/compiler/xla/service/service.cc:168] XLA service 0x7fe66042d710 initialized for platform Host (this does not guarantee that XLA will be used). Devices:\n",
      "2020-04-29 21:00:54.896956: I tensorflow/compiler/xla/service/service.cc:176]   StreamExecutor device (0): Host, Default Version\n",
      "Train for 2 steps, validate for 1 steps\n",
      "2020-04-29 21:01:06.322637: I tensorflow/core/profiler/lib/profiler_session.cc:225] Profiler session started.\n",
      "2/2 [==============================] - 31s 16s/step - loss: 12.8757 - accuracy: 0.5000 - val_loss: 4.0788 - val_accuracy: 0.6562\n"
     ]
    }
   ],
   "source": [
    "# Explicitly tell `gcloud ai-platform local train` to use Python 3 \n",
    "! gcloud config set ml_engine/local_python $(which python3)\n",
    "\n",
    "# Run the trainer with ai-platform local train\n",
    "! gcloud ai-platform local train \\\n",
    "    --package-path ./trainer \\\n",
    "    --module-name trainer.task \\\n",
    "    --job-dir ../train-output \\\n",
    "    -- \\\n",
    "    --data_dir ../data/processed/tfrecords/100-examples"
   ]
  },
  {
   "cell_type": "markdown",
   "metadata": {},
   "source": [
    "### Submit job to gcloud"
   ]
  },
  {
   "cell_type": "code",
   "execution_count": 42,
   "metadata": {},
   "outputs": [
    {
     "name": "stdout",
     "output_type": "stream",
     "text": [
      "Job [sticky_job_200430_202730] submitted successfully.\n",
      "Your job is still active. You may view the status of your job with the command\n",
      "\n",
      "  $ gcloud ai-platform jobs describe sticky_job_200430_202730\n",
      "\n",
      "or continue streaming the logs with the command\n",
      "\n",
      "  $ gcloud ai-platform jobs stream-logs sticky_job_200430_202730\n",
      "jobId: sticky_job_200430_202730\n",
      "state: QUEUED\n",
      "\n",
      "\n",
      "Updates are available for some Cloud SDK components.  To install them,\n",
      "please run:\n",
      "  $ gcloud components update\n",
      "\n"
     ]
    }
   ],
   "source": [
    "import datetime\n",
    "\n",
    "BUCKET_NAME = 'sticky-notes1'\n",
    "os_variables = {\n",
    "    'BUCKET_NAME': BUCKET_NAME,\n",
    "    'REGION': 'europe-west1',\n",
    "    'JOB_NAME': 'sticky_job',\n",
    "    'JOB_DIR': 'gs://' + BUCKET_NAME + '/training-jobs',\n",
    "    'DATA_DIR': 'gs://' + BUCKET_NAME + '/training-data'\n",
    "}\n",
    "for key, value in os_variables.items():\n",
    "    os.environ[key] = value\n",
    "\n",
    "! export date=$(date +%y%m%d_%H%M%S); \\\n",
    "  gcloud ai-platform jobs submit training \"${JOB_NAME}_${date}\" \\\n",
    "    --config config.yaml \\\n",
    "    --package-path trainer/ \\\n",
    "    --module-name trainer.task \\\n",
    "    --region $REGION \\\n",
    "    --python-version 3.7 \\\n",
    "    --runtime-version 2.1 \\\n",
    "    --job-dir \"${JOB_DIR}/${date}\" \\\n",
    "    -- \\\n",
    "    --epochs 5 \\\n",
    "    --data_dir $DATA_DIR \\\n",
    "    --initial_weights_path gs://sticky-notes1/training-jobs/200430_151618/3/model-weights.tf"
   ]
  },
  {
   "cell_type": "code",
   "execution_count": null,
   "metadata": {
    "scrolled": true
   },
   "outputs": [
    {
     "name": "stdout",
     "output_type": "stream",
     "text": [
      "Serving TensorBoard on localhost; to expose to the network, use a proxy or pass --bind_all\n",
      "TensorBoard 2.1.1 at http://localhost:6006/ (Press CTRL+C to quit)\n",
      "2020-05-01 02:51:40.236014: E tensorflow/core/platform/cloud/curl_http_request.cc:596] The transmission  of request 0x7f83bb3cdfc0 (URI: https://storage.googleapis.com/sticky-notes1/training-jobs%2F200430_151618%2F1%2Ftraining-logs%2Fvalidation%2Fevents.out.tfevents.1588252871.cmle-training-216446297068919051.410.3650.v2) has been stuck at 0 of 0 bytes for 7205 seconds and will be aborted. CURL timing information: lookup time: 0.000787 (No error), connect time: 0.005467 (No error), pre-transfer time: 0.012653 (No error), start-transfer time: 0.012653 (No error)\n",
      "2020-05-01 04:51:56.884559: E tensorflow/core/platform/cloud/curl_http_request.cc:596] The transmission  of request 0x7f83ba5c5ac0 (URI: https://www.googleapis.com/storage/v1/b/sticky-notes1/o?fields=items%2Fname%2CnextPageToken&prefix=training-jobs%2F200430_151618%2F3%2Ftraining-logs%2Fprojector_config.pbtxt%2F&maxResults=1) has been stuck at 0 of 0 bytes for 7203 seconds and will be aborted. CURL timing information: lookup time: 0.000914 (No error), connect time: 0.13596 (No error), pre-transfer time: 0.142792 (No error), start-transfer time: 0.142792 (No error)\n",
      "2020-05-01 06:52:11.934519: E tensorflow/core/platform/cloud/curl_http_request.cc:596] The transmission  of request 0x7f83b9e1e0b0 (URI: https://www.googleapis.com/storage/v1/b/sticky-notes1/o?fields=items%2Fname%2CnextPageToken&prefix=training-jobs%2F200430_151618%2F4%2Ftraining-logs%2Ftrain%2Fcheckpoint%2F&maxResults=1) has been stuck at 0 of 0 bytes for 7203 seconds and will be aborted. CURL timing information: lookup time: 0.001186 (No error), connect time: 0.005958 (No error), pre-transfer time: 0.014174 (No error), start-transfer time: 0.014174 (No error)\n",
      "2020-05-01 08:29:57.269693: E tensorflow/core/platform/cloud/curl_http_request.cc:596] The transmission  of request 0x7f83b9e3b790 (URI: https://www.googleapis.com/storage/v1/b/sticky-notes1/o/training-jobs%2F200430_202730%2F1%2Ftraining-logs%2Ftrain%2F..%2Fcheckpoint?fields=size%2Cgeneration%2Cupdated) has been stuck at 0 of 0 bytes for 3577 seconds and will be aborted. CURL timing information: lookup time: 0.001821 (No error), connect time: 0.007038 (No error), pre-transfer time: 0.013131 (No error), start-transfer time: 0.013131 (No error)\n"
     ]
    }
   ],
   "source": [
    "# view training logs\n",
    "! tensorboard --logdir $JOB_DIR"
   ]
  },
  {
   "cell_type": "code",
   "execution_count": 28,
   "metadata": {},
   "outputs": [],
   "source": [
    "# MODEL_NAME=\"mynet\"\n",
    "\n",
    "# ! gcloud ai-platform models create $MODEL_NAME \\\n",
    "#   --regions $REGION"
   ]
  },
  {
   "cell_type": "code",
   "execution_count": 29,
   "metadata": {},
   "outputs": [],
   "source": [
    "# MODEL_VERSION=\"v1\"\n",
    "\n",
    "# # Get a list of directories in the `keras_export` parent directory. Then pick\n",
    "# # the directory with the latest timestamp, in case you've trained multiple\n",
    "# # times.\n",
    "# SAVED_MODEL_PATH=$(gsutil ls $JOB_DIR/keras_export | tail -n 1)\n",
    "\n",
    "# # Create model version based on that SavedModel directory\n",
    "# gcloud ai-platform versions create $MODEL_VERSION \\\n",
    "#   --model $MODEL_NAME \\\n",
    "#   --runtime-version 1.15 \\\n",
    "#   --python-version 3.7 \\\n",
    "#   --framework tensorflow \\\n",
    "#   --origin $SAVED_MODEL_PATH"
   ]
  },
  {
   "cell_type": "code",
   "execution_count": null,
   "metadata": {},
   "outputs": [],
   "source": []
  }
 ],
 "metadata": {
  "kernelspec": {
   "display_name": "Python 3",
   "language": "python",
   "name": "python3"
  },
  "language_info": {
   "codemirror_mode": {
    "name": "ipython",
    "version": 3
   },
   "file_extension": ".py",
   "mimetype": "text/x-python",
   "name": "python",
   "nbconvert_exporter": "python",
   "pygments_lexer": "ipython3",
   "version": "3.7.7"
  }
 },
 "nbformat": 4,
 "nbformat_minor": 4
}
